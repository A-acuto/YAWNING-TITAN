{
 "cells": [
  {
   "cell_type": "code",
   "execution_count": null,
   "id": "3d343612-8e38-43f8-898e-95b85a96574c",
   "metadata": {
    "tags": []
   },
   "outputs": [],
   "source": [
    "from yawning_titan.networks.network_db import NetworkDB, NetworkSchema"
   ]
  },
  {
   "cell_type": "markdown",
   "id": "6d560100-489d-4dba-a7f5-4b361212d67b",
   "metadata": {},
   "source": [
    "## Instantiate the NetworkDB"
   ]
  },
  {
   "cell_type": "code",
   "execution_count": null,
   "id": "e5853d89-ee81-41dc-8425-fc6db5adfe74",
   "metadata": {
    "tags": []
   },
   "outputs": [],
   "source": [
    "db = NetworkDB()"
   ]
  },
  {
   "cell_type": "markdown",
   "id": "f5f38efe-8be2-4751-a9da-93500c1c87f4",
   "metadata": {},
   "source": [
    "## Perform a count on the DB to check how many networks are available"
   ]
  },
  {
   "cell_type": "code",
   "execution_count": null,
   "id": "674d56b7-ef6c-4e3c-9cee-f341d2991aac",
   "metadata": {
    "tags": []
   },
   "outputs": [],
   "source": [
    "db.count()"
   ]
  },
  {
   "cell_type": "markdown",
   "id": "42cb59e0-7011-4057-937c-08bf42fbf1fc",
   "metadata": {},
   "source": [
    "## Show all networks in the DB"
   ]
  },
  {
   "cell_type": "code",
   "execution_count": null,
   "id": "c25647d2-a6a9-4a61-a6ae-f6239e1ba36a",
   "metadata": {
    "tags": []
   },
   "outputs": [],
   "source": [
    "db.show(True)"
   ]
  },
  {
   "cell_type": "markdown",
   "id": "4762be8c-7b54-40a7-8a22-f4290ba56fc6",
   "metadata": {},
   "source": [
    "## Retrieve a network by passing its uuid to `.get`"
   ]
  },
  {
   "cell_type": "code",
   "execution_count": null,
   "id": "f3d910f8-a1fc-4cd9-b032-03b4332d824c",
   "metadata": {
    "tags": []
   },
   "outputs": [],
   "source": [
    "network = db.get(\"b3cd9dfd-b178-415d-93f0-c9e279b3c511\")\n",
    "network"
   ]
  }
 ],
 "metadata": {
  "kernelspec": {
   "display_name": "Python 3 (ipykernel)",
   "language": "python",
   "name": "python3"
  },
  "language_info": {
   "codemirror_mode": {
    "name": "ipython",
    "version": 3
   },
   "file_extension": ".py",
   "mimetype": "text/x-python",
   "name": "python",
   "nbconvert_exporter": "python",
   "pygments_lexer": "ipython3",
   "version": "3.10.9"
  }
 },
 "nbformat": 4,
 "nbformat_minor": 5
}
