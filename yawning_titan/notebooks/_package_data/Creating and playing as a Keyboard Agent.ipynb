{
 "cells": [
  {
   "cell_type": "markdown",
   "metadata": {},
   "source": [
    "## Play Yawning Titan using the Keyboard Agent"
   ]
  },
  {
   "cell_type": "code",
   "execution_count": null,
   "metadata": {},
   "outputs": [],
   "source": [
    "from stable_baselines3.common.env_checker import check_env\n",
    "\n",
    "from yawning_titan.envs.generic.core.blue_interface import BlueInterface\n",
    "from yawning_titan.envs.generic.core.red_interface import RedInterface\n",
    "from yawning_titan.envs.generic.generic_env import GenericNetworkEnv\n",
    "from yawning_titan.envs.generic.helpers import network_creator\n",
    "from yawning_titan.envs.generic.core.action_loops import ActionLoop\n",
    "from yawning_titan.envs.generic.core.network_interface import NetworkInterface"
   ]
  },
  {
   "cell_type": "markdown",
   "metadata": {},
   "source": [
    "## Create the network "
   ]
  },
  {
   "cell_type": "code",
   "execution_count": null,
   "metadata": {},
   "outputs": [],
   "source": [
    "matrix, node_positions = network_creator.create_18_node_network()"
   ]
  },
  {
   "cell_type": "code",
   "execution_count": null,
   "metadata": {},
   "outputs": [],
   "source": [
    "network_interface = NetworkInterface(matrix, node_positions)"
   ]
  },
  {
   "cell_type": "markdown",
   "metadata": {},
   "source": [
    "## Create the red and blue agents"
   ]
  },
  {
   "cell_type": "code",
   "execution_count": null,
   "metadata": {},
   "outputs": [],
   "source": [
    "red = RedInterface(network_interface)\n",
    "blue = BlueInterface(network_interface)"
   ]
  },
  {
   "cell_type": "markdown",
   "metadata": {},
   "source": [
    "## Create the environment"
   ]
  },
  {
   "cell_type": "code",
   "execution_count": null,
   "metadata": {},
   "outputs": [],
   "source": [
    "env = GenericNetworkEnv(red, blue, network_interface)"
   ]
  },
  {
   "cell_type": "code",
   "execution_count": null,
   "metadata": {},
   "outputs": [],
   "source": [
    "check_env(env, warn=True)\n",
    "\n",
    "_ = env.reset()"
   ]
  },
  {
   "cell_type": "markdown",
   "metadata": {},
   "source": [
    "## Create the keyboard and agent and start the game"
   ]
  },
  {
   "cell_type": "code",
   "execution_count": null,
   "metadata": {},
   "outputs": [],
   "source": [
    "from yawning_titan.agents.keyboard import KeyboardAgent\n",
    "\n",
    "kb = KeyboardAgent(env)\n",
    "\n",
    "kb.play(render_graphically=False)"
   ]
  }
 ],
 "metadata": {
  "kernelspec": {
<<<<<<< HEAD:notebooks/Creating and playing as a Keyboard Agent.ipynb
   "display_name": "Python 3.9.13 ('YT-dev': venv)",
=======
   "display_name": "Python 3 (ipykernel)",
>>>>>>> feature/AIDT-8-repeatable-threat-management:yawning_titan/notebooks/_package_data/Creating and playing as a Keyboard Agent.ipynb
   "language": "python",
   "name": "python3"
  },
  "language_info": {
   "codemirror_mode": {
    "name": "ipython",
    "version": 3
   },
   "file_extension": ".py",
   "mimetype": "text/x-python",
   "name": "python",
   "nbconvert_exporter": "python",
   "pygments_lexer": "ipython3",
<<<<<<< HEAD:notebooks/Creating and playing as a Keyboard Agent.ipynb
   "version": "3.9.13"
  },
  "vscode": {
   "interpreter": {
    "hash": "8281f60e6d3b786398bc633f7c731bd5cbd02717a6b77ca3d860cd84cc8e3229"
   }
=======
   "version": "3.10.7"
>>>>>>> feature/AIDT-8-repeatable-threat-management:yawning_titan/notebooks/_package_data/Creating and playing as a Keyboard Agent.ipynb
  }
 },
 "nbformat": 4,
 "nbformat_minor": 4
}
